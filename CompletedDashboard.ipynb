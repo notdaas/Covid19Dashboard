{
 "cells": [
  {
   "cell_type": "markdown",
   "metadata": {},
   "source": [
    "# Covid-19 Data Dashboard"
   ]
  },
  {
   "cell_type": "markdown",
   "metadata": {},
   "source": [
    "Welcome to the COVID-19 Data Dashboard. This interactive tool provides insights into COVID-19's impact in terms of hospital cases, beds occupied, and gender-specific statistics across Scotland, England, and Wales."
   ]
  },
  {
   "cell_type": "code",
   "execution_count": 27,
   "metadata": {},
   "outputs": [],
   "source": [
    "import json\n",
    "import pandas as pd\n",
    "import matplotlib.pyplot as plt\n",
    "import ipywidgets as wdg\n",
    "from uk_covid19 import Cov19API"
   ]
  },
  {
   "cell_type": "code",
   "execution_count": 28,
   "metadata": {},
   "outputs": [],
   "source": [
    "%matplotlib inline\n",
    "# make figures larger\n",
    "plt.rcParams['figure.dpi'] = 100\n",
    "\n",
    "# Global variable to store the data frames for each dataset\n",
    "global dfs\n",
    "dfs = {}\n"
   ]
  },
  {
   "cell_type": "code",
   "execution_count": 29,
   "metadata": {},
   "outputs": [],
   "source": [
    "\n",
    "\n",
    "\n",
    "\n",
    "# Load JSON files and store the raw data in some variable.\n",
    "jsondata = {}\n",
    "with open(\"scotseries.json\", \"rt\") as INFILE:\n",
    "    jsondata['Scotland'] = json.load(INFILE)\n",
    "with open(\"englandseries.json\", \"rt\") as INFILE:\n",
    "    jsondata['England'] = json.load(INFILE)\n",
    "with open(\"genderdistribution.json\", \"rt\") as INFILE:\n",
    "    jsondata['WalesGender'] = json.load(INFILE)\n",
    "with open(\"mfdistribution.json\", \"rt\") as INFILE:\n",
    "    jsondata['EnglandGender'] = json.load(INFILE)\n"
   ]
  },
  {
   "cell_type": "code",
   "execution_count": 30,
   "metadata": {},
   "outputs": [],
   "source": [
    "# Function to parse dates in the data\n",
    "def parse_date(datestring):\n",
    "    return pd.to_datetime(datestring, format=\"%Y-%m-%d\")\n",
    "\n",
    "# Wrangle raw data into structured pandas DataFrames\n",
    "def wrangle_data(rawdata):\n",
    "    # Wrangle Scotland Data\n",
    "    scotland_data = rawdata['Scotland']['data']\n",
    "    scotland_df = pd.DataFrame(scotland_data)\n",
    "    scotland_df['date'] = scotland_df['date'].apply(parse_date)\n",
    "\n",
    "    # Wrangle England Data\n",
    "    england_data = rawdata['England']['data']\n",
    "    england_df = pd.DataFrame(england_data)\n",
    "    england_df['date'] = england_df['date'].apply(parse_date)\n",
    "\n",
    "    # Wrangle Wales Gender Data\n",
    "    wales_gender_data = rawdata['WalesGender']['data'][0]\n",
    "    wales_gender_df = pd.DataFrame(index=[x['age'] for x in wales_gender_data['males']], columns=['males', 'females', 'total'])\n",
    "    for entry in wales_gender_data['males']:\n",
    "        age_band = entry['age']\n",
    "        male_count = entry['value']\n",
    "        female_count = next(item for item in wales_gender_data['females'] if item['age'] == age_band)['value']\n",
    "        wales_gender_df.loc[age_band] = [male_count, female_count, male_count + female_count]\n",
    "\n",
    "    # Wrangle England Gender Data\n",
    "    england_gender_data = rawdata['EnglandGender']['data'][0]\n",
    "    england_gender_df = pd.DataFrame(index=[x['age'] for x in england_gender_data['males']], columns=['males', 'females', 'total'])\n",
    "    for entry in england_gender_data['males']:\n",
    "        age_band = entry['age']\n",
    "        male_count = entry['value']\n",
    "        female_count = next(item for item in england_gender_data['females'] if item['age'] == age_band)['value']\n",
    "        england_gender_df.loc[age_band] = [male_count, female_count, male_count + female_count]\n",
    "\n",
    "    return {\n",
    "        'Scotland': scotland_df, \n",
    "        'England': england_df, \n",
    "        'WalesGender': wales_gender_df, \n",
    "        'EnglandGender': england_gender_df\n",
    "    }\n",
    "\n",
    "# Initialize the data frames with the wrangled data\n",
    "dfs = wrangle_data(jsondata)\n"
   ]
  },
  {
   "cell_type": "markdown",
   "metadata": {},
   "source": [
    "## Download current data"
   ]
  },
  {
   "cell_type": "markdown",
   "metadata": {},
   "source": [
    "Stay updated with the most recent data:\n",
    "\n",
    "Click the 'Fetch Data' button to retrieve the latest COVID-19 data.\n",
    "The dashboard will update with current information from Public Health England.\n",
    "Note: Data availability is subject to API connectivity and data updates from official sources."
   ]
  },
  {
   "cell_type": "code",
   "execution_count": 31,
   "metadata": {},
   "outputs": [
    {
     "data": {
      "application/vnd.jupyter.widget-view+json": {
       "model_id": "08bc26dfd638457ab9af337fc7ebd068",
       "version_major": 2,
       "version_minor": 0
      },
      "text/plain": [
       "Button(button_style='info', description='Fetch Data', icon='download', style=ButtonStyle(), tooltip='Click to …"
      ]
     },
     "metadata": {},
     "output_type": "display_data"
    }
   ],
   "source": [
    "# Filters and structures for API calls\n",
    "# These define the parameters for API requests\n",
    "scotland_filters = ['areaType=nation', 'areaName=Scotland']\n",
    "england_filters = ['areaType=nation', 'areaName=England']\n",
    "wales_filters = ['areaType=nation', 'areaName=Wales']\n",
    "common_structure = {\n",
    "    \"date\": \"date\",\n",
    "    \"bedsOccupied\": \"covidOccupiedMVBeds\",\n",
    "    \"hospitalCases\": \"hospitalCases\"\n",
    "}\n",
    "gender_structure = {\n",
    "    \"males\": \"maleCases\",\n",
    "    \"females\": \"femaleCases\"\n",
    "}\n",
    "\n",
    "# Function to access API and fetch new data\n",
    "def access_api():\n",
    "    # Define filters and structures\n",
    "    scotland_filters = ['areaType=nation', 'areaName=Scotland']\n",
    "    england_filters = ['areaType=nation', 'areaName=England']\n",
    "    wales_filters = ['areaType=nation', 'areaName=Wales']\n",
    "    common_structure = {\n",
    "        \"date\": \"date\",\n",
    "        \"bedsOccupied\": \"covidOccupiedMVBeds\",\n",
    "        \"hospitalCases\": \"hospitalCases\"\n",
    "    }\n",
    "    gender_structure = {\n",
    "        \"males\": \"maleCases\",\n",
    "        \"females\": \"femaleCases\"\n",
    "    }\n",
    "\n",
    "    # Fetch data for each region with the appropriate structure\n",
    "    scotland_api = Cov19API(filters=scotland_filters, structure=common_structure)\n",
    "    england_api = Cov19API(filters=england_filters, structure=common_structure)\n",
    "    wales_gender_api = Cov19API(filters=wales_filters, structure=gender_structure)\n",
    "    england_gender_api = Cov19API(filters=england_filters, structure=gender_structure)\n",
    "\n",
    "    # Get data in JSON format\n",
    "    scotland_data = scotland_api.get_json()\n",
    "    england_data = england_api.get_json()\n",
    "    wales_gender_data = wales_gender_api.get_json()\n",
    "    england_gender_data = england_gender_api.get_json()\n",
    "\n",
    "    # Combine all data into a single dictionary\n",
    "    apidata = {\n",
    "        'Scotland': scotland_data,\n",
    "        'England': england_data,\n",
    "        'WalesGender': wales_gender_data,\n",
    "        'EnglandGender': england_gender_data\n",
    "    }\n",
    "\n",
    "    return apidata\n",
    "\n",
    "\n",
    "def api_button_callback(button):\n",
    "    apidata = access_api()\n",
    "    global dfs\n",
    "    dfs = wrangle_data(apidata)\n",
    "    # Refresh the graphs with new data\n",
    "    refresh_line_graph()\n",
    "    refresh_bar_graph()\n",
    "    # Update button state\n",
    "    apibutton.icon = \"check\"\n",
    "    apibutton.description = \"Data Refreshed\"\n",
    "\n",
    "\n",
    "# Creating the 'Fetch Data' button\n",
    "apibutton = wdg.Button(\n",
    "    description='Fetch Data',\n",
    "    disabled=False,\n",
    "    button_style='info',\n",
    "    tooltip=\"Click to download current data\",\n",
    "    icon='download'\n",
    ")\n",
    "apibutton.on_click(api_button_callback)\n",
    "display(apibutton)\n"
   ]
  },
  {
   "cell_type": "markdown",
   "metadata": {},
   "source": [
    "## Graphs and Analysis"
   ]
  },
  {
   "cell_type": "markdown",
   "metadata": {},
   "source": [
    "Explore dynamic graphs which offer insights into various aspects of the COVID-19 data:\n",
    "\n",
    "Time-Series Analysis: Visualize trends over time, such as hospital cases and bed occupancy, for Scotland and England.\n",
    "\n",
    "Demographic Analysis: Examine gender-specific COVID-19 case distributions in Wales and England.\n",
    "\n",
    "Interact with the dropdown menus to switch between different datasets and gain different perspectives on the COVID-19 data."
   ]
  },
  {
   "cell_type": "code",
   "execution_count": 32,
   "metadata": {},
   "outputs": [
    {
     "data": {
      "application/vnd.jupyter.widget-view+json": {
       "model_id": "7151f081f2bb41f295196e02add38bc7",
       "version_major": 2,
       "version_minor": 0
      },
      "text/plain": [
       "Dropdown(description='Line Chart:', options=('Scotland', 'England'), value='Scotland')"
      ]
     },
     "metadata": {},
     "output_type": "display_data"
    },
    {
     "data": {
      "application/vnd.jupyter.widget-view+json": {
       "model_id": "e2c38f4c75a44f42ba859acd5763882b",
       "version_major": 2,
       "version_minor": 0
      },
      "text/plain": [
       "Output()"
      ]
     },
     "metadata": {},
     "output_type": "display_data"
    }
   ],
   "source": [
    "# Plotting functions and widgets for data visualization\n",
    "# Line Chart Plotting Function\n",
    "def plot_line_chart(data_key):\n",
    "    global dfs\n",
    "    df = dfs[data_key]\n",
    "    if data_key in ['Scotland', 'England']:\n",
    "        df.plot(x='date', y=['bedsOccupied', 'hospitalCases'])\n",
    "    plt.show()\n",
    "\n",
    "# Dropdown widget for selecting the dataset for the line chart\n",
    "line_data = wdg.Dropdown(\n",
    "    options=['Scotland', 'England'],\n",
    "    value='Scotland',\n",
    "    description='Line Chart:',\n",
    "    disabled=False,\n",
    ")\n",
    "\n",
    "# Function to refresh the line chart\n",
    "def refresh_line_graph():\n",
    "    current = line_data.value\n",
    "    line_data.value = (set(line_data.options) - {current}).pop()\n",
    "    line_data.value = current\n",
    "\n",
    "# Interactive output for the line chart\n",
    "line_graph = wdg.interactive_output(plot_line_chart, {'data_key': line_data})\n",
    "display(line_data, line_graph)\n"
   ]
  },
  {
   "cell_type": "code",
   "execution_count": 26,
   "metadata": {},
   "outputs": [
    {
     "data": {
      "application/vnd.jupyter.widget-view+json": {
       "model_id": "40a4cdf5d0234e49b846732e0c4f8adf",
       "version_major": 2,
       "version_minor": 0
      },
      "text/plain": [
       "Dropdown(description='Bar Chart:', options=('WalesGender', 'EnglandGender'), value='WalesGender')"
      ]
     },
     "metadata": {},
     "output_type": "display_data"
    },
    {
     "data": {
      "application/vnd.jupyter.widget-view+json": {
       "model_id": "cf2ad1552a614f748139e7ce0821b348",
       "version_major": 2,
       "version_minor": 0
      },
      "text/plain": [
       "Output()"
      ]
     },
     "metadata": {},
     "output_type": "display_data"
    }
   ],
   "source": [
    "# Bar Chart Plotting Function\n",
    "def plot_bar_chart(data_key):\n",
    "    global dfs\n",
    "    df = dfs[data_key]\n",
    "    if data_key in ['WalesGender', 'EnglandGender']:\n",
    "        df.plot(kind='bar')\n",
    "    plt.show()\n",
    "\n",
    "# Dropdown widget for selecting the dataset for the bar chart\n",
    "bar_data = wdg.Dropdown(\n",
    "    options=['WalesGender', 'EnglandGender'],\n",
    "    value='WalesGender',\n",
    "    description='Bar Chart:',\n",
    "    disabled=False,\n",
    ")\n",
    "\n",
    "# Function to refresh the bar chart\n",
    "def refresh_bar_graph():\n",
    "    current = bar_data.value\n",
    "    bar_data.value = (set(bar_data.options) - {current}).pop()\n",
    "    bar_data.value = current\n",
    "\n",
    "# Interactive output for the bar chart\n",
    "bar_graph = wdg.interactive_output(plot_bar_chart, {'data_key': bar_data})\n",
    "display(bar_data, bar_graph)\n"
   ]
  }
 ],
 "metadata": {
  "kernelspec": {
   "display_name": "Python 3 (ipykernel)",
   "language": "python",
   "name": "python3"
  },
  "language_info": {
   "codemirror_mode": {
    "name": "ipython",
    "version": 3
   },
   "file_extension": ".py",
   "mimetype": "text/x-python",
   "name": "python",
   "nbconvert_exporter": "python",
   "pygments_lexer": "ipython3",
   "version": "3.10.13"
  }
 },
 "nbformat": 4,
 "nbformat_minor": 4
}
